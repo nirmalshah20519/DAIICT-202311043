{
 "cells": [
  {
   "cell_type": "markdown",
   "metadata": {},
   "source": [
    "<div style=\"border: 1px solid black; padding:8px;\">\n",
    "    <h1> <center> PC-503 Programming Lab </center> </h1>\n",
    "    <h3> <center> Assignment 3 </center> </h3>\n",
    "    <div style=\"display: flex; justify-content: space-between; margin-bottom:12px;\">\n",
    "    <span style=\"padding:0px 16px; font-size:18px;\">\n",
    "        Nirmal Shah\n",
    "    </span>\n",
    "    <span style=\"padding:0px 16px; font-size:18px;\">\n",
    "        202311043\n",
    "    </span>\n",
    "    </div>\n",
    "</div>\n"
   ]
  },
  {
   "cell_type": "markdown",
   "metadata": {},
   "source": [
    "### Q1. Write a program which take a word from user as input and remove that word from a particular file."
   ]
  },
  {
   "cell_type": "code",
   "execution_count": 8,
   "metadata": {},
   "outputs": [
    {
     "name": "stdout",
     "output_type": "stream",
     "text": [
      "The irony of the situation hadn't escaped her. She had taken years to sculpt the perfect persona with the perfect look that she shared on Instagram. She knew her hundreds of thousands of followers envied that life she showed and stayed engaged with her because they wanted that life too. The truth was that she wanted the perfect life she portrayed more than any of her fans. The fact was that despite all the perfection she shared on social media, her life was actually more of a mess than most.\n",
      "\n"
     ]
    }
   ],
   "source": [
    "file_path = 'myFile.txt'\n",
    "\n",
    "with open(file_path, 'r') as file:\n",
    "    content = file.readline()\n",
    "    print(content)"
   ]
  },
  {
   "cell_type": "code",
   "execution_count": 9,
   "metadata": {},
   "outputs": [
    {
     "name": "stdout",
     "output_type": "stream",
     "text": [
      "The word 'The' has occured 3 times. All occurences has been removed from the file.\n"
     ]
    }
   ],
   "source": [
    "word_to_remove = input(\"Enter the word to remove: \")\n",
    "count = content.split(' ').count(word_to_remove)\n",
    "modified_content = content.replace(word_to_remove, '')\n",
    "\n",
    "# Write the modified content back to the file\n",
    "with open(file_path, 'w') as file:\n",
    "    file.write(modified_content)\n",
    "\n",
    "print(f\"The word '{word_to_remove}' has occured {count} times. All occurences has been removed from the file.\")\n"
   ]
  },
  {
   "cell_type": "code",
   "execution_count": 10,
   "metadata": {},
   "outputs": [
    {
     "name": "stdout",
     "output_type": "stream",
     "text": [
      " irony of the situation hadn't escaped her. She had taken years to sculpt the perfect persona with the perfect look that she shared on Instagram. She knew her hundreds of thousands of followers envied that life she showed and stayed engaged with her because they wanted that life too.  truth was that she wanted the perfect life she portrayed more than any of her fans.  fact was that despite all the perfection she shared on social media, her life was actually more of a mess than most.\n",
      "\n"
     ]
    }
   ],
   "source": [
    "file_path = 'myFile.txt'\n",
    "\n",
    "with open(file_path, 'r') as file:\n",
    "    content = file.readline()\n",
    "    print(content)"
   ]
  },
  {
   "cell_type": "markdown",
   "metadata": {},
   "source": [
    "### Q2. Write a program that can remove the word which is mentioned in stopword.txt https://www.kaggle.com/datasets/rowhitswami/stopwords"
   ]
  },
  {
   "cell_type": "code",
   "execution_count": 22,
   "metadata": {},
   "outputs": [
    {
     "name": "stdout",
     "output_type": "stream",
     "text": [
      "Before Removal :\n",
      "\n",
      "the paper was blank. it shouldn't have been. there should have been writing on the paper, at least a paragraph if not more. the fact that the writing wasn't there was frustrating. actually, it was even more than frustrating. it was downright distressing.\n",
      "i'm so confused by your ridiculous meltdown that i must insist on some sort of explanation for your behavior towards me. it just doesn't make any sense. there's no way that i deserved the treatment you gave me without an explanation or an apology for how out of line you have been.\n",
      "she tried not to judge him. his ratty clothes and unkempt hair made him look homeless. was he really the next einstein as she had been told? on the off chance it was true, she continued to try not to judge him.\n",
      "the desert wind blew the tumbleweed in front of the car. alex swerved to avoid the tumbleweed, but he turned the wheel a bit too strong and the car left the road and skidded onto the dirt median. he instantly slammed on the brakes and the car stopped in a cloud of dirt. when the dust cloud had settled and he could see around him again, he realized that he'd somehow crossed over into an entirely new dimension.\n",
      "it was a simple tip of the hat. grace didn't think that anyone else besides her had even noticed it. it wasn't anything that the average person would notice, let alone remember at the end of the day. that's why it seemed so unbelievable that this little gesture would ultimately change the course of the world.\n"
     ]
    }
   ],
   "source": [
    "file_path2 = 'myFile2.txt'\n",
    "\n",
    "with open(file_path2, 'r') as file:\n",
    "    content2 = file.read().lower()\n",
    "    print(\"Before Removal :\\n\")\n",
    "    print(content2)\n",
    "\n",
    "stopwords = 'stopwords.txt'\n",
    "words_to_remove=[]\n",
    "\n",
    "with open(stopwords, 'r') as file:\n",
    "    words_to_remove.extend(file.read().lower().split('\\n'))"
   ]
  },
  {
   "cell_type": "code",
   "execution_count": 23,
   "metadata": {},
   "outputs": [
    {
     "name": "stdout",
     "output_type": "stream",
     "text": [
      "Removed word 'or'\n",
      "Removed word 'to'\n",
      "Removed word 'to'\n",
      "Removed word 'to'\n",
      "Removed word 'to'\n",
      "the paper was blank. it shouldn't have been. there should have been writing on the paper, at least a paragraph if not more. the fact that the writing wasn't there was frustrating. actually, it was even more than frustrating. it was downright distressing.\n",
      "i'm so confused by your ridiculous meltdown that i must insist on some sort of explanation for your behavior towards me. it just doesn't make any sense. there's no way that i deserved the treatment you gave me without an explanation an apology for how out of line you have been.\n",
      "she tried not judge him. his ratty clothes and unkempt hair made him look homeless. was he really the next einstein as she had been told? on the off chance it was true, she continued try not judge him.\n",
      "the desert wind blew the tumbleweed in front of the car. alex swerved avoid the tumbleweed, but he turned the wheel a bit too strong and the car left the road and skidded onto the dirt median. he instantly slammed on the brakes and the car stopped in a cloud of dirt. when the dust cloud had settled and he could see around him again, he realized that he'd somehow crossed over into an entirely new dimension.\n",
      "it was a simple tip of the hat. grace didn't think that anyone else besides her had even noticed it. it wasn't anything that the average person would notice, let alone remember at the end of the day. that's why it seemed so unbelievable that this little gesture would ultimately change the course of the world.\n"
     ]
    }
   ],
   "source": [
    "wordsArr = content2.split(' ')\n",
    "\n",
    "for w in wordsArr:\n",
    "    if w in stopwords:\n",
    "        wordsArr.remove(w)\n",
    "        print(f\"Removed word '{w}'\")\n",
    "\n",
    "modified_content2 = ' '.join(wordsArr)\n",
    "with open(file_path2, 'w') as file:\n",
    "    print(modified_content2)\n",
    "    file.write(modified_content2)\n"
   ]
  },
  {
   "cell_type": "markdown",
   "metadata": {},
   "source": [
    "### Q3. Write a program which can handle the following exception: ValueError, TypeError, NameError and SyntaxError"
   ]
  },
  {
   "cell_type": "code",
   "execution_count": 26,
   "metadata": {},
   "outputs": [
    {
     "name": "stdout",
     "output_type": "stream",
     "text": [
      "Caught a ValueError: invalid literal for int() with base 10: 'hello'\n",
      "Caught a TypeError: unsupported operand type(s) for +: 'int' and 'str'\n",
      "Caught a NameError: name 'unknown_var' is not defined\n",
      "Caught a SyntaxError: invalid syntax (<string>, line 1)\n"
     ]
    }
   ],
   "source": [
    "def exception_handling():\n",
    "    # ValueError\n",
    "    try:\n",
    "        int(\"hello\")\n",
    "    except ValueError as ve:\n",
    "        print(\"Caught a ValueError:\", ve)\n",
    "\n",
    "    # TypeError\n",
    "    try:\n",
    "        x = 5 + \"2\"\n",
    "    except TypeError as te:\n",
    "        print(\"Caught a TypeError:\", te)\n",
    "\n",
    "    # NameError\n",
    "    try:\n",
    "        print(unknown_var)\n",
    "    except NameError as ne:\n",
    "        print(\"Caught a NameError:\", ne)\n",
    "\n",
    "    # SyntaxError\n",
    "    try:\n",
    "        eval(\"x = 5 6\")\n",
    "    except SyntaxError as se:\n",
    "        print(\"Caught a SyntaxError:\", se)\n",
    "\n",
    "exception_handling()\n"
   ]
  }
 ],
 "metadata": {
  "kernelspec": {
   "display_name": "Python 3.10.5 64-bit",
   "language": "python",
   "name": "python3"
  },
  "language_info": {
   "codemirror_mode": {
    "name": "ipython",
    "version": 3
   },
   "file_extension": ".py",
   "mimetype": "text/x-python",
   "name": "python",
   "nbconvert_exporter": "python",
   "pygments_lexer": "ipython3",
   "version": "3.10.5"
  },
  "orig_nbformat": 4,
  "vscode": {
   "interpreter": {
    "hash": "26de051ba29f2982a8de78e945f0abaf191376122a1563185a90213a26c5da77"
   }
  }
 },
 "nbformat": 4,
 "nbformat_minor": 2
}
