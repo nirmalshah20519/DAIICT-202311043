{
 "cells": [
  {
   "cell_type": "markdown",
   "metadata": {},
   "source": [
    "<div style=\"border: 1px solid black; padding:8px;\">\n",
    "    <h1> <center> PC-503 Programming Lab </center> </h1>\n",
    "    <h3> <center> Assignment 1 </center> </h3>\n",
    "    <div style=\"display: flex; justify-content: space-between; margin-bottom:12px;\">\n",
    "    <span style=\"padding:0px 16px; font-size:18px;\">\n",
    "        Nirmal Shah\n",
    "    </span>\n",
    "    <span style=\"padding:0px 16px; font-size:18px;\">\n",
    "        202311043\n",
    "    </span>\n",
    "    </div>\n",
    "</div>\n"
   ]
  },
  {
   "cell_type": "markdown",
   "metadata": {},
   "source": [
    "<p> Q1. Write a Python program from scratch to generate all permutations of a list in Python(without itertools)."
   ]
  },
  {
   "cell_type": "code",
   "execution_count": 66,
   "metadata": {},
   "outputs": [],
   "source": [
    "def generate_permutations(arr):\n",
    "    def backtrack(start):\n",
    "        if start == len(arr) - 1:\n",
    "            permutations.append(tuple(arr[:]))\n",
    "            return\n",
    "        \n",
    "        for i in range(start, len(arr)):\n",
    "            arr[start], arr[i] = arr[i], arr[start]\n",
    "            backtrack(start + 1)\n",
    "            arr[start], arr[i] = arr[i], arr[start]\n",
    "    \n",
    "    permutations = []\n",
    "    backtrack(0)\n",
    "    return permutations"
   ]
  },
  {
   "cell_type": "code",
   "execution_count": 67,
   "metadata": {},
   "outputs": [
    {
     "data": {
      "text/plain": [
       "[(1, 2, 3), (1, 3, 2), (2, 1, 3), (2, 3, 1), (3, 2, 1), (3, 1, 2)]"
      ]
     },
     "execution_count": 67,
     "metadata": {},
     "output_type": "execute_result"
    }
   ],
   "source": [
    "inp = [1,2,3]\n",
    "generate_permutations(inp)"
   ]
  },
  {
   "cell_type": "code",
   "execution_count": 84,
   "metadata": {},
   "outputs": [
    {
     "data": {
      "text/plain": [
       "[(5, 6, 7), (5, 7, 6), (6, 5, 7), (6, 7, 5), (7, 6, 5), (7, 5, 6)]"
      ]
     },
     "execution_count": 84,
     "metadata": {},
     "output_type": "execute_result"
    }
   ],
   "source": [
    "inp = [5,6,7]\n",
    "generate_permutations(inp)"
   ]
  },
  {
   "cell_type": "markdown",
   "metadata": {},
   "source": [
    "<p> Q2. Write a function that gives number of days of given year."
   ]
  },
  {
   "cell_type": "code",
   "execution_count": 69,
   "metadata": {},
   "outputs": [],
   "source": [
    "def year(nums):\n",
    "    if(nums%4 ==0 and nums %100!=0) or (nums%400==0):\n",
    "        return 366\n",
    "    else:\n",
    "        return 365\n"
   ]
  },
  {
   "cell_type": "code",
   "execution_count": 70,
   "metadata": {},
   "outputs": [
    {
     "data": {
      "text/plain": [
       "365"
      ]
     },
     "execution_count": 70,
     "metadata": {},
     "output_type": "execute_result"
    }
   ],
   "source": [
    "nums = int(input(\"Enter the year:\"))   \n",
    "year(nums)"
   ]
  },
  {
   "cell_type": "markdown",
   "metadata": {},
   "source": [
    "<p> Q3. Print the name(s) of any car(s) having the second expensive car in. If there are multiple cars, order their names alphabetically and print each one on a new line."
   ]
  },
  {
   "cell_type": "code",
   "execution_count": 71,
   "metadata": {},
   "outputs": [
    {
     "name": "stdout",
     "output_type": "stream",
     "text": [
      "JAGUAR\n",
      "MERCEDES\n"
     ]
    }
   ],
   "source": [
    "def second_expensive_cars(cars):\n",
    "    sorted_cars = sorted(cars, key=lambda x: x[1], reverse=True)\n",
    "    second_expensive_price = sorted_cars[1][1]    \n",
    "    second_expensive_names = [car[0] for car in sorted_cars if car[1] == second_expensive_price]\n",
    "    second_expensive_names.sort()    \n",
    "    return second_expensive_names\n",
    "\n",
    "car_data = [\n",
    "    [\"BMW\", 5000000],\n",
    "    [\"TOYOTA\", 1000000],\n",
    "    [\"NISSAN\", 1500000],\n",
    "    [\"JAGUAR\", 8000000],\n",
    "    [\"MERCEDES\", 8000000],\n",
    "    [\"FERRARI\", 15000000]\n",
    "]\n",
    "\n",
    "result = second_expensive_cars(car_data)\n",
    "for car in result:\n",
    "    print(car)"
   ]
  },
  {
   "cell_type": "markdown",
   "metadata": {},
   "source": [
    "<p> Q4. Count the frequency of each character in a string and store it in a dictionary."
   ]
  },
  {
   "cell_type": "code",
   "execution_count": 72,
   "metadata": {},
   "outputs": [],
   "source": [
    "def char_freq(str):\n",
    "    freq_dict = {}\n",
    "    for char in str:\n",
    "        if char in freq_dict:\n",
    "            freq_dict[char]+=1\n",
    "        else:\n",
    "            freq_dict[char] = 1\n",
    "    return freq_dict"
   ]
  },
  {
   "cell_type": "code",
   "execution_count": 73,
   "metadata": {},
   "outputs": [
    {
     "name": "stdout",
     "output_type": "stream",
     "text": [
      "{'T': 1, 'h': 2, 'e': 4, ' ': 11, 'p': 2, 'r': 1, 'm': 4, 'u': 2, 't': 6, 'a': 5, 'i': 7, 'o': 5, 'n': 6, 's': 4, 'f': 2, 'l': 4, 'y': 1, 'd': 1, 'g': 1, 'c': 1, 'b': 1}\n"
     ]
    }
   ],
   "source": [
    "str = 'The permutations of a list simply mean finding out all the combinations'\n",
    "result = char_freq(str)\n",
    "print(result)"
   ]
  },
  {
   "cell_type": "markdown",
   "metadata": {},
   "source": [
    "<p> Q5. Output the space separated tuples of the cartesian product(without built-in function)."
   ]
  },
  {
   "cell_type": "code",
   "execution_count": 74,
   "metadata": {},
   "outputs": [
    {
     "name": "stdout",
     "output_type": "stream",
     "text": [
      "[(1, 'a'), (1, 'b'), (2, 'a'), (2, 'b'), (3, 'a'), (3, 'b')]\n"
     ]
    }
   ],
   "source": [
    "A = [1, 2, 3]\n",
    "B = ['a','b']\n",
    "\n",
    "cartesian_product = []\n",
    "\n",
    "for a in A:\n",
    "    for b in B:\n",
    "        cartesian_product.append((a, b))\n",
    "\n",
    "print(cartesian_product)"
   ]
  },
  {
   "cell_type": "markdown",
   "metadata": {},
   "source": [
    "<p> Q6. Write a Program which remove all the element with having count 2."
   ]
  },
  {
   "cell_type": "code",
   "execution_count": 75,
   "metadata": {},
   "outputs": [
    {
     "name": "stdout",
     "output_type": "stream",
     "text": [
      "[1, 2, 3, 5, 5, 5, 7, 8, 8, 8, 8]\n"
     ]
    }
   ],
   "source": [
    "def remove(lst):\n",
    "    count_dict = {}    \n",
    "    for num in lst:\n",
    "        if num in count_dict:\n",
    "            count_dict[num] += 1\n",
    "        else:\n",
    "            count_dict[num] = 1    \n",
    "    output = [num for num in lst if count_dict[num] != 2]\n",
    "    return output\n",
    "\n",
    "lst = [1, 2, 3, 4, 4, 5, 5, 5, 6, 7, 6, 8, 8, 8, 8]\n",
    "\n",
    "output = remove(lst)\n",
    "print(output)"
   ]
  },
  {
   "cell_type": "markdown",
   "metadata": {},
   "source": [
    "<p> Q7. Write a program to find N largest and N smallest elements from a list."
   ]
  },
  {
   "cell_type": "code",
   "execution_count": 76,
   "metadata": {},
   "outputs": [
    {
     "name": "stdout",
     "output_type": "stream",
     "text": [
      "Largest = [89, 70, 66]\n",
      "Smallest = [4, 10, 13]\n"
     ]
    }
   ],
   "source": [
    "def find(arr, N):\n",
    "    larg = sorted(arr, reverse=True)[:N]\n",
    "    small = sorted(arr)[:N]\n",
    "    return larg, small\n",
    "\n",
    "N = 3\n",
    "Arr = [13, 29, 26, 15, 4, 70, 89, 57, 34, 66, 10, 49]\n",
    "\n",
    "larg_ele, small_ele = find(Arr, N)\n",
    "\n",
    "print(\"Largest =\", larg_ele)\n",
    "print(\"Smallest =\", small_ele)"
   ]
  },
  {
   "cell_type": "markdown",
   "metadata": {},
   "source": [
    "<p> Q8. Write a program to reverse a stack without using reverse() function. "
   ]
  },
  {
   "cell_type": "code",
   "execution_count": 77,
   "metadata": {},
   "outputs": [],
   "source": [
    "def rev_stack(stack):\n",
    "    rev_stack=[]\n",
    "    while len(stack):\n",
    "        rev_stack.append(stack.pop())\n",
    "    return rev_stack"
   ]
  },
  {
   "cell_type": "code",
   "execution_count": 78,
   "metadata": {},
   "outputs": [
    {
     "name": "stdout",
     "output_type": "stream",
     "text": [
      "[5, 3, 6, 9, 8, 1]\n"
     ]
    }
   ],
   "source": [
    "stack = [1,8,9,6,3,5]\n",
    "print(rev_stack(stack))"
   ]
  },
  {
   "cell_type": "markdown",
   "metadata": {},
   "source": [
    "<p> Q9. Write a function to print N “Perfect” numbers. A perfect number is a positive integer that is equal to the sum of its proper positive divisors. I.e. 6 is a perfect number because 1+2+3 = 6"
   ]
  },
  {
   "cell_type": "code",
   "execution_count": 79,
   "metadata": {},
   "outputs": [],
   "source": [
    "def is_perfect_number(num):\n",
    "    divisors = [1]\n",
    "    for i in range(2, int(num ** 0.5) + 1):\n",
    "        if num % i == 0:\n",
    "            divisors.append(i)\n",
    "            if i != num // i:\n",
    "                divisors.append(num // i)\n",
    "    return sum(divisors) == num\n",
    "\n",
    "def generate_perfect_numbers(n):\n",
    "    count = 0\n",
    "    num = 1\n",
    "    perfect_numbers = []\n",
    "\n",
    "    while count < n:\n",
    "        if is_perfect_number(num):\n",
    "            perfect_numbers.append(num)\n",
    "            count += 1\n",
    "        num += 1\n",
    "\n",
    "    return perfect_numbers"
   ]
  },
  {
   "cell_type": "code",
   "execution_count": 80,
   "metadata": {},
   "outputs": [
    {
     "name": "stdout",
     "output_type": "stream",
     "text": [
      "[1, 6, 28, 496, 8128]\n"
     ]
    }
   ],
   "source": [
    "N = 5\n",
    "perfect_numbers = generate_perfect_numbers(N)\n",
    "print(perfect_numbers)"
   ]
  },
  {
   "cell_type": "markdown",
   "metadata": {},
   "source": [
    "<p> Q10. Write a function to check whether the given password is valid or not. Password is a combination of alphanumeric characters along with special characters. A password is correct if and only if all the following conditions are satisfied:\n",
    "<ul>\n",
    "<li>Length of the password should be a minimum of 10.</li>\n",
    "<li>The alphabet must be between [a-z].</li>\n",
    "<li>At least one numeric character [0-9].</li>\n",
    "<li>At least one alphabet should be of Upper Case [A-Z].</li>\n",
    "<li>At least 1 special character from [ _ or @ or $ ].</li>\n",
    "<li>No numeric character and special character should be adjacent.</li>\n",
    "<ul>"
   ]
  },
  {
   "cell_type": "code",
   "execution_count": 81,
   "metadata": {},
   "outputs": [],
   "source": [
    "import re\n",
    "\n",
    "def is_valid_password(password):\n",
    "    if len(password) < 10:\n",
    "        print(\"Check minimum length\")\n",
    "        return False\n",
    "\n",
    "    if not any(c.islower() for c in password):\n",
    "        print(\"Check lowercase alphabets\")\n",
    "        return False\n",
    "\n",
    "    if not any(c.isdigit() for c in password):\n",
    "        print(\"Check numeric characters\")\n",
    "        return False\n",
    "\n",
    "    if not any(c.isupper() for c in password):\n",
    "        print(\"Check uppercase alphabets\")\n",
    "        return False\n",
    "\n",
    "    special_characters = ['_', '@', '$']\n",
    "    if not any(c in special_characters for c in password):\n",
    "        print(\"Check special characters\")\n",
    "        return False\n",
    "\n",
    "    pattern = r'[\\W_]?[0-9]+[\\W_]?'\n",
    "    if not re.search(pattern, password):\n",
    "        return False\n",
    "\n",
    "    return True\n",
    "\n"
   ]
  },
  {
   "cell_type": "code",
   "execution_count": 82,
   "metadata": {},
   "outputs": [
    {
     "data": {
      "text/plain": [
       "True"
      ]
     },
     "execution_count": 82,
     "metadata": {},
     "output_type": "execute_result"
    }
   ],
   "source": [
    "password1 = \"D@iict1234\"\n",
    "is_valid_password(password1)\n"
   ]
  },
  {
   "cell_type": "code",
   "execution_count": 83,
   "metadata": {},
   "outputs": [
    {
     "data": {
      "text/plain": [
       "False"
      ]
     },
     "execution_count": 83,
     "metadata": {},
     "output_type": "execute_result"
    }
   ],
   "source": [
    "password2 = \"Daiict5_123\"\n",
    "is_valid_password(password2)"
   ]
  }
 ],
 "metadata": {
  "kernelspec": {
   "display_name": "Python 3",
   "language": "python",
   "name": "python3"
  },
  "language_info": {
   "codemirror_mode": {
    "name": "ipython",
    "version": 3
   },
   "file_extension": ".py",
   "mimetype": "text/x-python",
   "name": "python",
   "nbconvert_exporter": "python",
   "pygments_lexer": "ipython3",
   "version": "3.10.11"
  },
  "orig_nbformat": 4
 },
 "nbformat": 4,
 "nbformat_minor": 2
}
