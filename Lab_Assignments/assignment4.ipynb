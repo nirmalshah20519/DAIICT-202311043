{
 "cells": [
  {
   "cell_type": "markdown",
   "metadata": {},
   "source": [
    "<div style=\"border: 1px solid black; padding:8px;\">\n",
    "    <h1> <center> PC-503 Programming Lab </center> </h1>\n",
    "    <h3> <center> Assignment 4 </center> </h3>\n",
    "    <div style=\"display: flex; justify-content: space-between; margin-bottom:12px;\">\n",
    "    <span style=\"padding:0px 16px; font-size:18px;\">\n",
    "        Nirmal Shah\n",
    "    </span>\n",
    "    <span style=\"padding:0px 16px; font-size:18px;\">\n",
    "        202311043\n",
    "    </span>\n",
    "    </div>\n",
    "</div>\n"
   ]
  },
  {
   "cell_type": "markdown",
   "metadata": {},
   "source": [
    "### Q1. Implement a custom exception named \"CustomOutOfRangeError.\" Write a Python program that asks the user to enter an integer within a specified range (e.g., 10 to 50). If the input is outside this range, raise the \"CustomOutOfRangeError\" with a meaningful error message. Handle this exception and ask the user for input again until a valid input is provided."
   ]
  },
  {
   "cell_type": "code",
   "execution_count": 3,
   "metadata": {},
   "outputs": [],
   "source": [
    "class CustomOutOfRangeError(Exception):\n",
    "    def __init__(self, message=\"Input is out of specified range\"):\n",
    "        self.message = message\n",
    "        super().__init__(self.message)\n",
    "\n",
    "def get_valid_input(min_range, max_range):\n",
    "    while True:\n",
    "        try:\n",
    "            user_input = int(input(f\"Enter an integer between {min_range} and {max_range}: \"))\n",
    "            if min_range <= user_input <= max_range:\n",
    "                return user_input\n",
    "            else:\n",
    "                raise CustomOutOfRangeError()\n",
    "        except CustomOutOfRangeError as e:\n",
    "            print(e)\n",
    "        except ValueError:\n",
    "            print(\"Invalid input. Please enter an integer.\")\n",
    "        except Exception as e:\n",
    "            print(f\"An unexpected error occurred: {e}\")"
   ]
  },
  {
   "cell_type": "code",
   "execution_count": 6,
   "metadata": {},
   "outputs": [
    {
     "name": "stdout",
     "output_type": "stream",
     "text": [
      "Input is out of specified range\n",
      "Input is out of specified range\n",
      "You entered: 45\n"
     ]
    }
   ],
   "source": [
    "# Example usage\n",
    "min_range = 10\n",
    "max_range = 50\n",
    "\n",
    "user_input = get_valid_input(min_range, max_range)\n",
    "print(f\"You entered: {user_input}\")"
   ]
  },
  {
   "cell_type": "markdown",
   "metadata": {},
   "source": [
    "### Q2. Write a Python program that reads data from a CSV file. Implement exception handling to manage potential errors such as file not found,  nvalid data format, or missing columns. Create a custom exception \"CSVDataError\" to handle issues related to data format. Display appropriate  error messages for different exceptions."
   ]
  },
  {
   "cell_type": "code",
   "execution_count": 15,
   "metadata": {},
   "outputs": [],
   "source": [
    "from tabulate import tabulate\n",
    "\n",
    "class CSVDataError(Exception):\n",
    "    def __init__(self, message=\"CSV data error\"):\n",
    "        self.message = message\n",
    "        super().__init__(self.message)\n",
    "\n",
    "def read_csv_file(file_path):\n",
    "    try:\n",
    "        with open(file_path, 'r') as file:\n",
    "            header = file.readline().strip().split(',')\n",
    "            data = []\n",
    "            for line in file:\n",
    "                values = line.strip().split(',')\n",
    "                if len(values) != len(header):\n",
    "                    raise CSVDataError(\"Number of columns in the CSV data is inconsistent.\")\n",
    "                data.append(values)\n",
    "            return header, data\n",
    "    except FileNotFoundError:\n",
    "        raise FileNotFoundError(f\"File '{file_path}' not found.\")\n",
    "    except CSVDataError as e:\n",
    "        raise e\n",
    "    except Exception as e:\n",
    "        raise Exception(f\"An unexpected error occurred: {e}\")\n"
   ]
  },
  {
   "cell_type": "code",
   "execution_count": 16,
   "metadata": {},
   "outputs": [
    {
     "name": "stdout",
     "output_type": "stream",
     "text": [
      "File 'temfp.csv' not found.\n"
     ]
    }
   ],
   "source": [
    "\n",
    "file_path = 'temfp.csv'\n",
    "try:\n",
    "    header, data = read_csv_file(file_path)\n",
    "    table = tabulate(data, header, tablefmt=\"grid\")\n",
    "    print(table)\n",
    "except FileNotFoundError as e:\n",
    "    print(e)\n",
    "except CSVDataError as e:\n",
    "    print(f\"CSV Data Error: {e}\")\n",
    "except Exception as e:\n",
    "    print(f\"An unexpected error occurred: {e}\")"
   ]
  },
  {
   "cell_type": "code",
   "execution_count": 17,
   "metadata": {},
   "outputs": [
    {
     "name": "stdout",
     "output_type": "stream",
     "text": [
      "+--------+--------+--------+\n",
      "| col1   | col2   | col3   |\n",
      "+========+========+========+\n",
      "| d1     | d2     | d3     |\n",
      "+--------+--------+--------+\n",
      "| a1     | a2     | a3     |\n",
      "+--------+--------+--------+\n"
     ]
    }
   ],
   "source": [
    "\n",
    "file_path = 'temp.csv'\n",
    "try:\n",
    "    header, data = read_csv_file(file_path)\n",
    "    table = tabulate(data, header, tablefmt=\"grid\")\n",
    "    print(table)\n",
    "except FileNotFoundError as e:\n",
    "    print(e)\n",
    "except CSVDataError as e:\n",
    "    print(f\"CSV Data Error: {e}\")\n",
    "except Exception as e:\n",
    "    print(f\"An unexpected error occurred: {e}\")"
   ]
  },
  {
   "cell_type": "code",
   "execution_count": 18,
   "metadata": {},
   "outputs": [
    {
     "name": "stdout",
     "output_type": "stream",
     "text": [
      "CSV Data Error: Number of columns in the CSV data is inconsistent.\n"
     ]
    }
   ],
   "source": [
    "\n",
    "file_path = 'temp2.csv'\n",
    "try:\n",
    "    header, data = read_csv_file(file_path)\n",
    "    table = tabulate(data, header, tablefmt=\"grid\")\n",
    "    print(table)\n",
    "except FileNotFoundError as e:\n",
    "    print(e)\n",
    "except CSVDataError as e:\n",
    "    print(f\"CSV Data Error: {e}\")\n",
    "except Exception as e:\n",
    "    print(f\"An unexpected error occurred: {e}\")"
   ]
  },
  {
   "cell_type": "markdown",
   "metadata": {},
   "source": [
    "### Q3. Create a Python module that defines a function to calculate the nth Fibonacci number. Import this module into another script and use the function to calculate the Fibonacci sequence for the first 15 numbers. Display the results."
   ]
  },
  {
   "cell_type": "code",
   "execution_count": null,
   "metadata": {},
   "outputs": [],
   "source": [
    "### Fibonacci.py File\n",
    "# def calculate_fibonacci(n):\n",
    "#     if n <= 0:\n",
    "#         return \"Invalid input\"\n",
    "#     elif n == 1:\n",
    "#         return 0\n",
    "#     elif n == 2:\n",
    "#         return 1\n",
    "#     else:\n",
    "#         a, b = 0, 1\n",
    "#         for _ in range(3, n + 1):\n",
    "#             a, b = b, a + b\n",
    "#         return b"
   ]
  },
  {
   "cell_type": "code",
   "execution_count": 21,
   "metadata": {},
   "outputs": [
    {
     "name": "stdout",
     "output_type": "stream",
     "text": [
      "Fibonacci sequence for the first 15 numbers:\n",
      "[0, 1, 1, 2, 3, 5, 8, 13, 21, 34, 55, 89, 144, 233, 377]\n"
     ]
    }
   ],
   "source": [
    "import fibonacci\n",
    "\n",
    "print(\"Fibonacci sequence for the first 15 numbers:\")\n",
    "\n",
    "fibonacci_sequence = [fibonacci.calculate_fibonacci(n) for n in range(1, 16)]\n",
    "print(fibonacci_sequence)\n"
   ]
  },
  {
   "cell_type": "markdown",
   "metadata": {},
   "source": [
    "### Q4. Develop a Python module that provides functionalities for matrix operations, including addition, subtraction, and multiplication using NumPy. Use this module to perform matrix multiplication on two randomly generated matrices."
   ]
  },
  {
   "cell_type": "code",
   "execution_count": 22,
   "metadata": {},
   "outputs": [],
   "source": [
    "### Matrix.py File\n",
    "\n",
    "# import numpy as np\n",
    "\n",
    "# def generate_matrix(row, col):\n",
    "#     return np.random.randint(1, 10, size=(row, col))\n",
    "\n",
    "# def add_matrices(matrix1, matrix2):\n",
    "#     return np.add(matrix1, matrix2)\n",
    "\n",
    "# def subtract_matrices(matrix1, matrix2):\n",
    "#     return np.subtract(matrix1, matrix2)\n",
    "\n",
    "# def multiply_matrices(matrix1, matrix2):\n",
    "#     return np.matmul(matrix1, matrix2)"
   ]
  },
  {
   "cell_type": "code",
   "execution_count": 29,
   "metadata": {},
   "outputs": [],
   "source": [
    "import matrix as mx\n",
    "\n",
    "M1 = mx.generate_matrix(4,3)\n",
    "M2 = mx.generate_matrix(3,2)\n",
    "M3 = mx.generate_matrix(4,3)\n",
    "\n",
    "add = mx.add_matrices(M1, M3)\n",
    "sub = mx.subtract_matrices(M1, M3)\n",
    "mul = mx.multiply_matrices(M1, M2)\n",
    "\n"
   ]
  },
  {
   "cell_type": "code",
   "execution_count": 31,
   "metadata": {},
   "outputs": [
    {
     "name": "stdout",
     "output_type": "stream",
     "text": [
      "M1 = \n",
      " [[9 8 2]\n",
      " [8 4 5]\n",
      " [1 7 8]\n",
      " [8 5 5]]\n",
      "\n",
      "M2 = \n",
      " [[6 4]\n",
      " [1 4]\n",
      " [3 5]]\n",
      "\n",
      "M3 = \n",
      " [[6 3 2]\n",
      " [7 4 9]\n",
      " [2 8 3]\n",
      " [9 9 8]]\n",
      "\n"
     ]
    }
   ],
   "source": [
    "print(\"M1 = \\n\",M1)\n",
    "print(\"\")\n",
    "print(\"M2 = \\n\",M2)\n",
    "print(\"\")\n",
    "print(\"M3 = \\n\",M3)\n",
    "print(\"\")"
   ]
  },
  {
   "cell_type": "code",
   "execution_count": 33,
   "metadata": {},
   "outputs": [
    {
     "name": "stdout",
     "output_type": "stream",
     "text": [
      "Addition M1 + M3 = \n",
      " [[15 11  4]\n",
      " [15  8 14]\n",
      " [ 3 15 11]\n",
      " [17 14 13]]\n",
      "\n",
      "Subraction M1 - M3 = \n",
      " [[ 3  5  0]\n",
      " [ 1  0 -4]\n",
      " [-1 -1  5]\n",
      " [-1 -4 -3]]\n",
      "\n",
      "Multiplication M1 x M2 = \n",
      " [[68 78]\n",
      " [67 73]\n",
      " [37 72]\n",
      " [68 77]]\n",
      "\n"
     ]
    }
   ],
   "source": [
    "print(\"Addition M1 + M3 = \\n\", add)\n",
    "print()\n",
    "print(\"Subraction M1 - M3 = \\n\", sub)\n",
    "print()\n",
    "print(\"Multiplication M1 x M2 = \\n\", mul)\n",
    "print()"
   ]
  },
  {
   "cell_type": "markdown",
   "metadata": {},
   "source": [
    "### Q5. Write a Python program that generates a 10x10 numpy array with random integers between 1 and 100. Find and display the indices of the top 5 maximum values in the array."
   ]
  },
  {
   "cell_type": "code",
   "execution_count": 43,
   "metadata": {},
   "outputs": [
    {
     "name": "stdout",
     "output_type": "stream",
     "text": [
      "Generated 10x10 NumPy Array:\n",
      "[[ 25  49  91  74  21  79  68  27  44   4]\n",
      " [ 88  30 100  34  84  69  95   2  32  73]\n",
      " [ 57  21  17  49  63  16  24  45  13  72]\n",
      " [ 15  11  92  60  89  29  34  48  98  34]\n",
      " [ 11  42  55  11  67  14  76  70  43  25]\n",
      " [ 60  24  37  58  90  85  22  71  61  46]\n",
      " [ 34  68  84  47  53  80  69  88  61  28]\n",
      " [ 81  14  82  81  82  48  39  28  28  32]\n",
      " [ 51  99  91  55  33  63  75  83   8   2]\n",
      " [ 80 100  68  11  28  98  99  92  79  59]]\n",
      "\n",
      "Indices of the Top 5 Maximum Values:\n",
      "\n",
      "Top 1 value: 100 at index 9, 1\n",
      "Top 2 value: 100 at index 1, 2\n",
      "Top 3 value: 99 at index 9, 6\n",
      "Top 4 value: 99 at index 8, 1\n",
      "Top 5 value: 98 at index 9, 5\n"
     ]
    }
   ],
   "source": [
    "import numpy as np\n",
    "\n",
    "random_array = np.random.randint(1, 101, size=(10, 10))\n",
    "\n",
    "print(\"Generated 10x10 NumPy Array:\")\n",
    "print(random_array)\n",
    "\n",
    "top_indices = np.unravel_index(np.argsort(random_array, axis=None)[-5:], random_array.shape)\n",
    "\n",
    "print(\"\\nIndices of the Top 5 Maximum Values:\\n\")\n",
    "for i in range(4,-1,-1):\n",
    "    print(f\"Top {5-i} value: {random_array[top_indices[0][i], top_indices[1][i]]} at index {top_indices[0][i]}, {top_indices[1][i]}\")\n"
   ]
  }
 ],
 "metadata": {
  "kernelspec": {
   "display_name": "Python 3.10.5 64-bit",
   "language": "python",
   "name": "python3"
  },
  "language_info": {
   "codemirror_mode": {
    "name": "ipython",
    "version": 3
   },
   "file_extension": ".py",
   "mimetype": "text/x-python",
   "name": "python",
   "nbconvert_exporter": "python",
   "pygments_lexer": "ipython3",
   "version": "3.10.5"
  },
  "orig_nbformat": 4,
  "vscode": {
   "interpreter": {
    "hash": "26de051ba29f2982a8de78e945f0abaf191376122a1563185a90213a26c5da77"
   }
  }
 },
 "nbformat": 4,
 "nbformat_minor": 2
}
